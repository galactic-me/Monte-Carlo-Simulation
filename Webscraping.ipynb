{
  "nbformat": 4,
  "nbformat_minor": 0,
  "metadata": {
    "colab": {
      "provenance": [],
      "authorship_tag": "ABX9TyOGjVd5I31vVdpij1dPYha6",
      "include_colab_link": true
    },
    "kernelspec": {
      "name": "python3",
      "display_name": "Python 3"
    },
    "language_info": {
      "name": "python"
    }
  },
  "cells": [
    {
      "cell_type": "markdown",
      "metadata": {
        "id": "view-in-github",
        "colab_type": "text"
      },
      "source": [
        "<a href=\"https://colab.research.google.com/github/galactic-me/Monte-Carlo-Simulation/blob/main/Webscraping.ipynb\" target=\"_parent\"><img src=\"https://colab.research.google.com/assets/colab-badge.svg\" alt=\"Open In Colab\"/></a>"
      ]
    },
    {
      "cell_type": "code",
      "execution_count": 1,
      "metadata": {
        "id": "W6bhV5cstjF6"
      },
      "outputs": [],
      "source": [
        "from bs4 import BeautifulSoup #library used to scrape\n",
        "import requests               #library used to actually get the results\n"
      ]
    },
    {
      "cell_type": "code",
      "source": [
        "headers = {'user-agent':'Mozilla/5.0 (Windows NT 10.0; Win64; x64) AppleWebKit/537.36 (KHTML, like Gecko) Chrome/91.0.4472.114 Safari/537.36'} #sring which identifies crawler as a web browser\n",
        "url='https://scholar.google.com/scholar?q=Industrial+Control+System&hl=en&as_sdt=0%2C5&as_ylo=2000&as_yhi=2020'"
      ],
      "metadata": {
        "id": "rwReNCvXtj2u"
      },
      "execution_count": 8,
      "outputs": []
    },
    {
      "cell_type": "code",
      "source": [
        "response=requests.get(url,headers=headers)"
      ],
      "metadata": {
        "id": "t-XHEzBdtj6F"
      },
      "execution_count": 4,
      "outputs": []
    },
    {
      "cell_type": "code",
      "source": [
        "soup=BeautifulSoup(response.content,'lxml')#conversion into xml document"
      ],
      "metadata": {
        "id": "VnGkU-KYtj9F"
      },
      "execution_count": 6,
      "outputs": []
    },
    {
      "cell_type": "code",
      "source": [
        "for item in soup.select('[data-lid]'):\n",
        "  print(item)\n",
        "  print(item.select('h3')[0].get_text())\n",
        "  item.select('a')[0]['href']\n",
        "  print('----------')"
      ],
      "metadata": {
        "id": "-5GMN1sptkAV",
        "colab": {
          "base_uri": "https://localhost:8080/"
        },
        "outputId": "e461537f-f02b-4e85-f263-df857e740c83"
      },
      "execution_count": 32,
      "outputs": [
        {
          "output_type": "stream",
          "name": "stdout",
          "text": [
            "<div class=\"gs_r gs_or gs_scl\" data-aid=\"kvjW9FoAkBQJ\" data-cid=\"kvjW9FoAkBQJ\" data-did=\"kvjW9FoAkBQJ\" data-lid=\"\" data-rp=\"0\"><div class=\"gs_ggs gs_fl\"><div class=\"gs_ggsd\"><div class=\"gs_or_ggsm\" ontouchstart=\"gs_evt_dsp(event)\" tabindex=\"-1\"><a data-clk=\"hl=en&amp;sa=T&amp;oi=gga&amp;ct=gga&amp;cd=0&amp;d=1481684668059678866&amp;ei=DD13ZaumM7qR6rQPscmLsAU\" data-clk-atid=\"kvjW9FoAkBQJ\" href=\"http://www.gocs.com.de/pages/fachberichte/archiv/164-sp800_82_r2_draft.pdf\"><span class=\"gs_ctg2\">[PDF]</span> gocs.com.de</a></div></div></div><div class=\"gs_ri\"><h3 class=\"gs_rt\" ontouchstart=\"gs_evt_dsp(event)\"><span class=\"gs_ctc\"><span class=\"gs_ct1\">[PDF]</span><span class=\"gs_ct2\">[PDF]</span></span> <a data-clk=\"hl=en&amp;sa=T&amp;oi=ggp&amp;ct=res&amp;cd=0&amp;d=1481684668059678866&amp;ei=DD13ZaumM7qR6rQPscmLsAU\" data-clk-atid=\"kvjW9FoAkBQJ\" href=\"http://www.gocs.com.de/pages/fachberichte/archiv/164-sp800_82_r2_draft.pdf\" id=\"kvjW9FoAkBQJ\">Guide to <b>industrial control systems </b>(ICS) security</a></h3><div class=\"gs_a\">K Stouffer, <a href=\"/citations?user=awNOAaYAAAAJ&amp;hl=en&amp;oi=sra\">J Falco</a>, <a href=\"/citations?user=FhB7pywAAAAJ&amp;hl=en&amp;oi=sra\">K Scarfone</a> - NIST special publication, 2011 - gocs.com.de</div><div class=\"gs_rs\">… guidance on how to secure <b>Industrial</b> <b>Control</b> <b>Systems</b> (ICS), including … <b>Control</b> and Data <br/>\n",
            "Acquisition (SCADA) <b>systems</b>, Distributed <b>Control</b> <b>Systems</b> (DCS), and other <b>control</b> <b>system</b> …</div><div class=\"gs_fl gs_flb\"><a class=\"gs_or_sav gs_or_btn\" href=\"javascript:void(0)\" role=\"button\"><svg class=\"gs_or_svg\" viewbox=\"0 0 15 16\"><path d=\"M7.5 11.57l3.824 2.308-1.015-4.35 3.379-2.926-4.45-.378L7.5 2.122 5.761 6.224l-4.449.378 3.379 2.926-1.015 4.35z\"></path></svg><span class=\"gs_or_btn_lbl\">Save</span></a> <a aria-controls=\"gs_cit\" aria-haspopup=\"true\" class=\"gs_or_cit gs_or_btn gs_nph\" href=\"javascript:void(0)\" role=\"button\"><svg class=\"gs_or_svg\" viewbox=\"0 0 15 16\"><path d=\"M6.5 3.5H1.5V8.5H3.75L1.75 12.5H4.75L6.5 9V3.5zM13.5 3.5H8.5V8.5H10.75L8.75 12.5H11.75L13.5 9V3.5z\"></path></svg><span>Cite</span></a> <a href=\"/scholar?cites=1481684668059678866&amp;as_sdt=2005&amp;sciodt=0,5&amp;hl=en\">Cited by 2224</a> <a href=\"/scholar?q=related:kvjW9FoAkBQJ:scholar.google.com/&amp;scioq=Industrial+Control+System&amp;hl=en&amp;as_sdt=0,5&amp;as_ylo=2000&amp;as_yhi=2020\">Related articles</a> <a class=\"gs_nph\" href=\"/scholar?cluster=1481684668059678866&amp;hl=en&amp;as_sdt=0,5&amp;as_ylo=2000&amp;as_yhi=2020\">All 53 versions</a> <a class=\"gs_or_mor\" href=\"javascript:void(0)\" role=\"button\" title=\"More\"><svg class=\"gs_or_svg\" viewbox=\"0 0 15 16\"><path d=\"M0.75 5.5l2-2L7.25 8l-4.5 4.5-2-2L3.25 8zM7.75 5.5l2-2L14.25 8l-4.5 4.5-2-2L10.25 8z\"></path></svg></a> <a class=\"gs_or_nvi\" href=\"/scholar?output=instlink&amp;q=info:kvjW9FoAkBQJ:scholar.google.com/&amp;hl=en&amp;as_sdt=0,5&amp;as_ylo=2000&amp;as_yhi=2020&amp;scillfp=14228463480628640690&amp;oi=llo\">Library Search</a> <a class=\"gs_or_nvi\" href=\"http://scholar.googleusercontent.com/scholar?q=cache:kvjW9FoAkBQJ:scholar.google.com/+Industrial+Control+System&amp;hl=en&amp;as_sdt=0,5&amp;as_ylo=2000&amp;as_yhi=2020\">View as HTML</a> <a class=\"gs_or_nvi gs_or_mor\" href=\"javascript:void(0)\" role=\"button\" title=\"Fewer\"><svg class=\"gs_or_svg\" viewbox=\"0 0 15 16\"><path d=\"M7.25 5.5l-2-2L0.75 8l4.5 4.5 2-2L4.75 8zM14.25 5.5l-2-2L7.75 8l4.5 4.5 2-2L11.75 8z\"></path></svg></a></div></div></div>\n",
            "[PDF][PDF] Guide to industrial control systems (ICS) security\n",
            "http://www.gocs.com.de/pages/fachberichte/archiv/164-sp800_82_r2_draft.pdf\n",
            "----------\n",
            "<div class=\"gs_r gs_or gs_scl\" data-aid=\"s_p5ECfjNuAJ\" data-cid=\"s_p5ECfjNuAJ\" data-did=\"s_p5ECfjNuAJ\" data-lid=\"\" data-rp=\"1\"><div class=\"gs_ggs gs_fl\"><div class=\"gs_ggsd\"><div class=\"gs_or_ggsm\" ontouchstart=\"gs_evt_dsp(event)\" tabindex=\"-1\"><a data-clk=\"hl=en&amp;sa=T&amp;oi=gga&amp;ct=gga&amp;cd=1&amp;d=16156350470157892275&amp;ei=DD13ZaumM7qR6rQPscmLsAU\" data-clk-atid=\"s_p5ECfjNuAJ\" href=\"https://www.scienceopen.com/document_file/ac860a09-78e2-4eb5-b8fb-0aea8b8d8a8e/ScienceOpen/022_Morris.pdf\"><span class=\"gs_ctg2\">[PDF]</span> scienceopen.com</a></div></div></div><div class=\"gs_ri\"><h3 class=\"gs_rt\" ontouchstart=\"gs_evt_dsp(event)\"><a data-clk=\"hl=en&amp;sa=T&amp;ct=res&amp;cd=1&amp;d=16156350470157892275&amp;ei=DD13ZaumM7qR6rQPscmLsAU\" data-clk-atid=\"s_p5ECfjNuAJ\" href=\"https://www.scienceopen.com/hosted-document?doi=10.14236/ewic/ICSCSR2013.3\" id=\"s_p5ECfjNuAJ\"><b>Industrial control system </b>cyber attacks</a></h3><div class=\"gs_a\"><a href=\"/citations?user=rYwAGnUAAAAJ&amp;hl=en&amp;oi=sra\">TH Morris</a>, <a href=\"/citations?user=QeZQvDcAAAAJ&amp;hl=en&amp;oi=sra\">W Gao</a> - 1st International Symposium for ICS &amp; SCADA …, 2013 - scienceopen.com</div><div class=\"gs_rs\">… a set of attacks against SCADA <b>control</b> <b>systems</b>. The attacks are … against <b>industrial</b> <b>control</b> <br/>\n",
            "<b>systems</b> in a laboratory setting. … of 17 attacks against <b>industrial</b> <b>control</b> <b>systems</b> which use the …</div><div class=\"gs_fl gs_flb\"><a class=\"gs_or_sav gs_or_btn\" href=\"javascript:void(0)\" role=\"button\"><svg class=\"gs_or_svg\" viewbox=\"0 0 15 16\"><path d=\"M7.5 11.57l3.824 2.308-1.015-4.35 3.379-2.926-4.45-.378L7.5 2.122 5.761 6.224l-4.449.378 3.379 2.926-1.015 4.35z\"></path></svg><span class=\"gs_or_btn_lbl\">Save</span></a> <a aria-controls=\"gs_cit\" aria-haspopup=\"true\" class=\"gs_or_cit gs_or_btn gs_nph\" href=\"javascript:void(0)\" role=\"button\"><svg class=\"gs_or_svg\" viewbox=\"0 0 15 16\"><path d=\"M6.5 3.5H1.5V8.5H3.75L1.75 12.5H4.75L6.5 9V3.5zM13.5 3.5H8.5V8.5H10.75L8.75 12.5H11.75L13.5 9V3.5z\"></path></svg><span>Cite</span></a> <a href=\"/scholar?cites=16156350470157892275&amp;as_sdt=2005&amp;sciodt=0,5&amp;hl=en\">Cited by 169</a> <a href=\"/scholar?q=related:s_p5ECfjNuAJ:scholar.google.com/&amp;scioq=Industrial+Control+System&amp;hl=en&amp;as_sdt=0,5&amp;as_ylo=2000&amp;as_yhi=2020\">Related articles</a> <a class=\"gs_nph\" href=\"/scholar?cluster=16156350470157892275&amp;hl=en&amp;as_sdt=0,5&amp;as_ylo=2000&amp;as_yhi=2020\">All 7 versions</a> <a class=\"gs_or_mor\" href=\"javascript:void(0)\" role=\"button\" title=\"More\"><svg class=\"gs_or_svg\" viewbox=\"0 0 15 16\"><path d=\"M0.75 5.5l2-2L7.25 8l-4.5 4.5-2-2L3.25 8zM7.75 5.5l2-2L14.25 8l-4.5 4.5-2-2L10.25 8z\"></path></svg></a> <a class=\"gs_or_nvi\" href=\"https://scholar.googleusercontent.com/scholar?q=cache:s_p5ECfjNuAJ:scholar.google.com/+Industrial+Control+System&amp;hl=en&amp;as_sdt=0,5&amp;as_ylo=2000&amp;as_yhi=2020\">View as HTML</a> <a class=\"gs_or_nvi gs_or_mor\" href=\"javascript:void(0)\" role=\"button\" title=\"Fewer\"><svg class=\"gs_or_svg\" viewbox=\"0 0 15 16\"><path d=\"M7.25 5.5l-2-2L0.75 8l4.5 4.5 2-2L4.75 8zM14.25 5.5l-2-2L7.75 8l4.5 4.5 2-2L11.75 8z\"></path></svg></a></div></div></div>\n",
            "Industrial control system cyber attacks\n",
            "https://www.scienceopen.com/document_file/ac860a09-78e2-4eb5-b8fb-0aea8b8d8a8e/ScienceOpen/022_Morris.pdf\n",
            "----------\n",
            "<div class=\"gs_r gs_or gs_scl\" data-aid=\"kORBH8nauqMJ\" data-cid=\"kORBH8nauqMJ\" data-did=\"kORBH8nauqMJ\" data-lid=\"\" data-rp=\"2\"><div class=\"gs_ggs gs_fl\"><div class=\"gs_ggsd\"><div class=\"gs_or_ggsm\" ontouchstart=\"gs_evt_dsp(event)\" tabindex=\"-1\"><a data-clk=\"hl=en&amp;sa=T&amp;oi=gga&amp;ct=gga&amp;cd=2&amp;d=11797982731198129296&amp;ei=DD13ZaumM7qR6rQPscmLsAU\" data-clk-atid=\"kORBH8nauqMJ\" href=\"https://ds.amu.edu.et/xmlui/bitstream/handle/123456789/17461/Graham%20C.%20Goodwin%2C%20Stefan%20F.%20Graebe%2C%20Mario%20E.%20Salgado-Control%20System%20Design%20-Prentice%20Hall%20%282000%29.pdf?sequence=1&amp;isAllowed=y\"><span class=\"gs_ctg2\">[PDF]</span> amu.edu.et</a></div></div></div><div class=\"gs_ri\"><h3 class=\"gs_rt\" ontouchstart=\"gs_evt_dsp(event)\"><span class=\"gs_ctc\"><span class=\"gs_ct1\">[BOOK]</span><span class=\"gs_ct2\">[B]</span></span> <a data-clk=\"hl=en&amp;sa=T&amp;oi=ggp&amp;ct=res&amp;cd=2&amp;d=11797982731198129296&amp;ei=DD13ZaumM7qR6rQPscmLsAU\" data-clk-atid=\"kORBH8nauqMJ\" href=\"https://ds.amu.edu.et/xmlui/bitstream/handle/123456789/17461/Graham%20C.%20Goodwin%2C%20Stefan%20F.%20Graebe%2C%20Mario%20E.%20Salgado-Control%20System%20Design%20-Prentice%20Hall%20%282000%29.pdf?sequence=1&amp;isAllowed=y\" id=\"kORBH8nauqMJ\"><b>Control System </b>Desig</a></h3><div class=\"gs_a\"><a href=\"/citations?user=ZOF0KysAAAAJ&amp;hl=en&amp;oi=sra\">GC Goodwin</a> - 2000 - ds.amu.edu.et</div><div class=\"gs_rs\">… <b>industrial</b> <b>control</b> <b>system</b> design projects that provided part of the motivation to write this book. <br/>\n",
            "In a typical <b>industrial</b> … rates, dealing with <b>system</b> integration and network communication …</div><div class=\"gs_fl gs_flb\"><a class=\"gs_or_sav gs_or_btn\" href=\"javascript:void(0)\" role=\"button\"><svg class=\"gs_or_svg\" viewbox=\"0 0 15 16\"><path d=\"M7.5 11.57l3.824 2.308-1.015-4.35 3.379-2.926-4.45-.378L7.5 2.122 5.761 6.224l-4.449.378 3.379 2.926-1.015 4.35z\"></path></svg><span class=\"gs_or_btn_lbl\">Save</span></a> <a aria-controls=\"gs_cit\" aria-haspopup=\"true\" class=\"gs_or_cit gs_or_btn gs_nph\" href=\"javascript:void(0)\" role=\"button\"><svg class=\"gs_or_svg\" viewbox=\"0 0 15 16\"><path d=\"M6.5 3.5H1.5V8.5H3.75L1.75 12.5H4.75L6.5 9V3.5zM13.5 3.5H8.5V8.5H10.75L8.75 12.5H11.75L13.5 9V3.5z\"></path></svg><span>Cite</span></a> <a href=\"/scholar?cites=11797982731198129296&amp;as_sdt=2005&amp;sciodt=0,5&amp;hl=en\">Cited by 3321</a> <a href=\"/scholar?q=related:kORBH8nauqMJ:scholar.google.com/&amp;scioq=Industrial+Control+System&amp;hl=en&amp;as_sdt=0,5&amp;as_ylo=2000&amp;as_yhi=2020\">Related articles</a> <a class=\"gs_nph\" href=\"/scholar?cluster=11797982731198129296&amp;hl=en&amp;as_sdt=0,5&amp;as_ylo=2000&amp;as_yhi=2020\">All 11 versions</a> <a class=\"gs_or_mor\" href=\"javascript:void(0)\" role=\"button\" title=\"More\"><svg class=\"gs_or_svg\" viewbox=\"0 0 15 16\"><path d=\"M0.75 5.5l2-2L7.25 8l-4.5 4.5-2-2L3.25 8zM7.75 5.5l2-2L14.25 8l-4.5 4.5-2-2L10.25 8z\"></path></svg></a> <a class=\"gs_or_nvi\" href=\"/scholar?output=instlink&amp;q=info:kORBH8nauqMJ:scholar.google.com/&amp;hl=en&amp;as_sdt=0,5&amp;as_ylo=2000&amp;as_yhi=2020&amp;scillfp=4083030890489710066&amp;oi=llo\">Library Search</a> <a class=\"gs_or_nvi\" href=\"https://scholar.googleusercontent.com/scholar?q=cache:kORBH8nauqMJ:scholar.google.com/+Industrial+Control+System&amp;hl=en&amp;as_sdt=0,5&amp;as_ylo=2000&amp;as_yhi=2020\">View as HTML</a> <a class=\"gs_or_nvi gs_or_mor\" href=\"javascript:void(0)\" role=\"button\" title=\"Fewer\"><svg class=\"gs_or_svg\" viewbox=\"0 0 15 16\"><path d=\"M7.25 5.5l-2-2L0.75 8l4.5 4.5 2-2L4.75 8zM14.25 5.5l-2-2L7.75 8l4.5 4.5 2-2L11.75 8z\"></path></svg></a></div></div></div>\n",
            "[BOOK][B] Control System Desig\n",
            "https://ds.amu.edu.et/xmlui/bitstream/handle/123456789/17461/Graham%20C.%20Goodwin%2C%20Stefan%20F.%20Graebe%2C%20Mario%20E.%20Salgado-Control%20System%20Design%20-Prentice%20Hall%20%282000%29.pdf?sequence=1&isAllowed=y\n",
            "----------\n",
            "<div class=\"gs_r gs_or gs_scl\" data-aid=\"gv3YJppoB3MJ\" data-cid=\"gv3YJppoB3MJ\" data-did=\"gv3YJppoB3MJ\" data-lid=\"\" data-rp=\"3\"><div class=\"gs_ri\"><h3 class=\"gs_rt\" ontouchstart=\"gs_evt_dsp(event)\"><span class=\"gs_ctc\"><span class=\"gs_ct1\">[BOOK]</span><span class=\"gs_ct2\">[B]</span></span> <a data-clk=\"hl=en&amp;sa=T&amp;ct=res&amp;cd=3&amp;d=8288708650484694402&amp;ei=DD13ZaumM7qR6rQPscmLsAU\" data-clk-atid=\"gv3YJppoB3MJ\" href=\"https://link.springer.com/book/10.1007/1-84628-493-7\" id=\"gv3YJppoB3MJ\">Wind turbine <b>control systems</b>: principles, modelling and gain scheduling design</a></h3><div class=\"gs_a\"><a href=\"/citations?user=T_rX3BYAAAAJ&amp;hl=en&amp;oi=sra\">FD Bianchi</a>, <a href=\"/citations?user=K6ISRlAAAAAJ&amp;hl=en&amp;oi=sra\">H De Battista</a>, <a href=\"/citations?user=41eF7_gAAAAJ&amp;hl=en&amp;oi=sra\">RJ Mantz</a> - 2007 - Springer</div><div class=\"gs_rs\">… Advances in <b>Industrial</b> <b>Control</b> aims to report and encourage the transfer of technology in <br/>\n",
            "<b>control</b> … to present an extended exposition of new work in all aspects of <b>industrial</b> <b>control</b>. …</div><div class=\"gs_fl gs_flb\"><a class=\"gs_or_sav gs_or_btn\" href=\"javascript:void(0)\" role=\"button\"><svg class=\"gs_or_svg\" viewbox=\"0 0 15 16\"><path d=\"M7.5 11.57l3.824 2.308-1.015-4.35 3.379-2.926-4.45-.378L7.5 2.122 5.761 6.224l-4.449.378 3.379 2.926-1.015 4.35z\"></path></svg><span class=\"gs_or_btn_lbl\">Save</span></a> <a aria-controls=\"gs_cit\" aria-haspopup=\"true\" class=\"gs_or_cit gs_or_btn gs_nph\" href=\"javascript:void(0)\" role=\"button\"><svg class=\"gs_or_svg\" viewbox=\"0 0 15 16\"><path d=\"M6.5 3.5H1.5V8.5H3.75L1.75 12.5H4.75L6.5 9V3.5zM13.5 3.5H8.5V8.5H10.75L8.75 12.5H11.75L13.5 9V3.5z\"></path></svg><span>Cite</span></a> <a href=\"/scholar?cites=8288708650484694402&amp;as_sdt=2005&amp;sciodt=0,5&amp;hl=en\">Cited by 1910</a> <a href=\"/scholar?q=related:gv3YJppoB3MJ:scholar.google.com/&amp;scioq=Industrial+Control+System&amp;hl=en&amp;as_sdt=0,5&amp;as_ylo=2000&amp;as_yhi=2020\">Related articles</a> <a class=\"gs_nph\" href=\"/scholar?cluster=8288708650484694402&amp;hl=en&amp;as_sdt=0,5&amp;as_ylo=2000&amp;as_yhi=2020\">All 6 versions</a> <a class=\"gs_or_mor\" href=\"javascript:void(0)\" role=\"button\" title=\"More\"><svg class=\"gs_or_svg\" viewbox=\"0 0 15 16\"><path d=\"M0.75 5.5l2-2L7.25 8l-4.5 4.5-2-2L3.25 8zM7.75 5.5l2-2L14.25 8l-4.5 4.5-2-2L10.25 8z\"></path></svg></a> <a class=\"gs_or_nvi\" href=\"/scholar?output=instlink&amp;q=info:gv3YJppoB3MJ:scholar.google.com/&amp;hl=en&amp;as_sdt=0,5&amp;as_ylo=2000&amp;as_yhi=2020&amp;scillfp=4784973306070044265&amp;oi=llo\">Library Search</a> <a class=\"gs_or_nvi gs_or_mor\" href=\"javascript:void(0)\" role=\"button\" title=\"Fewer\"><svg class=\"gs_or_svg\" viewbox=\"0 0 15 16\"><path d=\"M7.25 5.5l-2-2L0.75 8l4.5 4.5 2-2L4.75 8zM14.25 5.5l-2-2L7.75 8l4.5 4.5 2-2L11.75 8z\"></path></svg></a></div></div></div>\n",
            "[BOOK][B] Wind turbine control systems: principles, modelling and gain scheduling design\n",
            "https://link.springer.com/book/10.1007/1-84628-493-7\n",
            "----------\n",
            "<div class=\"gs_r gs_or gs_scl\" data-aid=\"wcKmnl6D1ZgJ\" data-cid=\"wcKmnl6D1ZgJ\" data-did=\"wcKmnl6D1ZgJ\" data-lid=\"\" data-rp=\"4\"><div class=\"gs_ggs gs_fl\"><div class=\"gs_ggsd\"><div class=\"gs_or_ggsm\" ontouchstart=\"gs_evt_dsp(event)\" tabindex=\"-1\"><a data-clk=\"hl=en&amp;sa=T&amp;oi=gga&amp;ct=gga&amp;cd=4&amp;d=11012852906216309441&amp;ei=DD13ZaumM7qR6rQPscmLsAU\" data-clk-atid=\"wcKmnl6D1ZgJ\" href=\"http://kundoku.free.fr/O/008/Optimal%20Sampled%20Data%20Control%20Systems/Optimal%20Sampled%20Data%20Control%20Systems.pdf\"><span class=\"gs_ctg2\">[PDF]</span> free.fr</a></div></div></div><div class=\"gs_ri\"><h3 class=\"gs_rt\" ontouchstart=\"gs_evt_dsp(event)\"><span class=\"gs_ctc\"><span class=\"gs_ct1\">[BOOK]</span><span class=\"gs_ct2\">[B]</span></span> <a data-clk=\"hl=en&amp;sa=T&amp;ct=res&amp;cd=4&amp;d=11012852906216309441&amp;ei=DD13ZaumM7qR6rQPscmLsAU\" data-clk-atid=\"wcKmnl6D1ZgJ\" href=\"https://books.google.com/books?hl=en&amp;lr=&amp;id=kIjbBwAAQBAJ&amp;oi=fnd&amp;pg=PA4&amp;dq=Industrial+Control+System&amp;ots=65r_aSlPyM&amp;sig=wOwfbxe5z1QvnxW1XiBUejx1J7M\" id=\"wcKmnl6D1ZgJ\">Optimal sampled-data <b>control systems</b></a></h3><div class=\"gs_a\"><a href=\"/citations?user=q-3o8GYAAAAJ&amp;hl=en&amp;oi=sra\">T Chen</a>, <a href=\"/citations?user=ymySTBMAAAAJ&amp;hl=en&amp;oi=sra\">BA Francis</a> - 2012 - books.google.com</div><div class=\"gs_rs\">… The fact that most new <b>industrial</b> <b>controllers</b> are digital provides strong motivation … <b>control</b> <br/>\n",
            "<b>systems</b>. This book is intended as a graduate text in linear sampled-data (SD) <b>control</b> <b>systems</b>. …</div><div class=\"gs_fl gs_flb\"><a class=\"gs_or_sav gs_or_btn\" href=\"javascript:void(0)\" role=\"button\"><svg class=\"gs_or_svg\" viewbox=\"0 0 15 16\"><path d=\"M7.5 11.57l3.824 2.308-1.015-4.35 3.379-2.926-4.45-.378L7.5 2.122 5.761 6.224l-4.449.378 3.379 2.926-1.015 4.35z\"></path></svg><span class=\"gs_or_btn_lbl\">Save</span></a> <a aria-controls=\"gs_cit\" aria-haspopup=\"true\" class=\"gs_or_cit gs_or_btn gs_nph\" href=\"javascript:void(0)\" role=\"button\"><svg class=\"gs_or_svg\" viewbox=\"0 0 15 16\"><path d=\"M6.5 3.5H1.5V8.5H3.75L1.75 12.5H4.75L6.5 9V3.5zM13.5 3.5H8.5V8.5H10.75L8.75 12.5H11.75L13.5 9V3.5z\"></path></svg><span>Cite</span></a> <a href=\"/scholar?cites=11012852906216309441&amp;as_sdt=2005&amp;sciodt=0,5&amp;hl=en\">Cited by 2726</a> <a href=\"/scholar?q=related:wcKmnl6D1ZgJ:scholar.google.com/&amp;scioq=Industrial+Control+System&amp;hl=en&amp;as_sdt=0,5&amp;as_ylo=2000&amp;as_yhi=2020\">Related articles</a> <a class=\"gs_nph\" href=\"/scholar?cluster=11012852906216309441&amp;hl=en&amp;as_sdt=0,5&amp;as_ylo=2000&amp;as_yhi=2020\">All 11 versions</a> <a class=\"gs_or_mor\" href=\"javascript:void(0)\" role=\"button\" title=\"More\"><svg class=\"gs_or_svg\" viewbox=\"0 0 15 16\"><path d=\"M0.75 5.5l2-2L7.25 8l-4.5 4.5-2-2L3.25 8zM7.75 5.5l2-2L14.25 8l-4.5 4.5-2-2L10.25 8z\"></path></svg></a> <a class=\"gs_or_nvi\" href=\"/scholar?output=instlink&amp;q=info:wcKmnl6D1ZgJ:scholar.google.com/&amp;hl=en&amp;as_sdt=0,5&amp;as_ylo=2000&amp;as_yhi=2020&amp;scillfp=13214253884203220029&amp;oi=llo\">Library Search</a> <a class=\"gs_or_nvi gs_or_mor\" href=\"javascript:void(0)\" role=\"button\" title=\"Fewer\"><svg class=\"gs_or_svg\" viewbox=\"0 0 15 16\"><path d=\"M7.25 5.5l-2-2L0.75 8l4.5 4.5 2-2L4.75 8zM14.25 5.5l-2-2L7.75 8l4.5 4.5 2-2L11.75 8z\"></path></svg></a></div></div></div>\n",
            "[BOOK][B] Optimal sampled-data control systems\n",
            "http://kundoku.free.fr/O/008/Optimal%20Sampled%20Data%20Control%20Systems/Optimal%20Sampled%20Data%20Control%20Systems.pdf\n",
            "----------\n",
            "<div class=\"gs_r gs_or gs_scl\" data-aid=\"JiE5qq5PhWIJ\" data-cid=\"JiE5qq5PhWIJ\" data-did=\"JiE5qq5PhWIJ\" data-lid=\"\" data-rp=\"5\"><div class=\"gs_ri\"><h3 class=\"gs_rt\" ontouchstart=\"gs_evt_dsp(event)\"><span class=\"gs_ctc\"><span class=\"gs_ct1\">[BOOK]</span><span class=\"gs_ct2\">[B]</span></span> <a data-clk=\"hl=en&amp;sa=T&amp;ct=res&amp;cd=5&amp;d=7099167999218229542&amp;ei=DD13ZaumM7qR6rQPscmLsAU\" data-clk-atid=\"JiE5qq5PhWIJ\" href=\"https://books.google.com/books?hl=en&amp;lr=&amp;id=vcc_AAAAQBAJ&amp;oi=fnd&amp;pg=PR27&amp;dq=Industrial+Control+System&amp;ots=iwvsUjuOSs&amp;sig=w631RcX6X_Kp8ZlB01c4gHJShPY\" id=\"JiE5qq5PhWIJ\">Model predictive <b>control system </b>design and implementation using MATLAB®</a></h3><div class=\"gs_a\"><a href=\"/citations?user=xoGSfpEAAAAJ&amp;hl=en&amp;oi=sra\">L Wang</a> - 2009 - books.google.com</div><div class=\"gs_rs\">… As we know, the majority of <b>industrial</b> <b>control</b> <b>systems</b> have integral action (eg, … <b>control</b> <br/>\n",
            "<b>systems</b> designed using the framework of state space to the classical predictive <b>control</b> <b>systems</b>. …</div><div class=\"gs_fl gs_flb\"><a class=\"gs_or_sav gs_or_btn\" href=\"javascript:void(0)\" role=\"button\"><svg class=\"gs_or_svg\" viewbox=\"0 0 15 16\"><path d=\"M7.5 11.57l3.824 2.308-1.015-4.35 3.379-2.926-4.45-.378L7.5 2.122 5.761 6.224l-4.449.378 3.379 2.926-1.015 4.35z\"></path></svg><span class=\"gs_or_btn_lbl\">Save</span></a> <a aria-controls=\"gs_cit\" aria-haspopup=\"true\" class=\"gs_or_cit gs_or_btn gs_nph\" href=\"javascript:void(0)\" role=\"button\"><svg class=\"gs_or_svg\" viewbox=\"0 0 15 16\"><path d=\"M6.5 3.5H1.5V8.5H3.75L1.75 12.5H4.75L6.5 9V3.5zM13.5 3.5H8.5V8.5H10.75L8.75 12.5H11.75L13.5 9V3.5z\"></path></svg><span>Cite</span></a> <a href=\"/scholar?cites=7099167999218229542&amp;as_sdt=2005&amp;sciodt=0,5&amp;hl=en\">Cited by 2623</a> <a href=\"/scholar?q=related:JiE5qq5PhWIJ:scholar.google.com/&amp;scioq=Industrial+Control+System&amp;hl=en&amp;as_sdt=0,5&amp;as_ylo=2000&amp;as_yhi=2020\">Related articles</a> <a class=\"gs_nph\" href=\"/scholar?cluster=7099167999218229542&amp;hl=en&amp;as_sdt=0,5&amp;as_ylo=2000&amp;as_yhi=2020\">All 12 versions</a> <a class=\"gs_or_mor\" href=\"javascript:void(0)\" role=\"button\" title=\"More\"><svg class=\"gs_or_svg\" viewbox=\"0 0 15 16\"><path d=\"M0.75 5.5l2-2L7.25 8l-4.5 4.5-2-2L3.25 8zM7.75 5.5l2-2L14.25 8l-4.5 4.5-2-2L10.25 8z\"></path></svg></a> <a class=\"gs_or_nvi\" href=\"/scholar?output=instlink&amp;q=info:JiE5qq5PhWIJ:scholar.google.com/&amp;hl=en&amp;as_sdt=0,5&amp;as_ylo=2000&amp;as_yhi=2020&amp;scillfp=9806638480419570530&amp;oi=llo\">Library Search</a> <a class=\"gs_or_nvi gs_or_mor\" href=\"javascript:void(0)\" role=\"button\" title=\"Fewer\"><svg class=\"gs_or_svg\" viewbox=\"0 0 15 16\"><path d=\"M7.25 5.5l-2-2L0.75 8l4.5 4.5 2-2L4.75 8zM14.25 5.5l-2-2L7.75 8l4.5 4.5 2-2L11.75 8z\"></path></svg></a></div></div></div>\n",
            "[BOOK][B] Model predictive control system design and implementation using MATLAB®\n",
            "https://books.google.com/books?hl=en&lr=&id=vcc_AAAAQBAJ&oi=fnd&pg=PR27&dq=Industrial+Control+System&ots=iwvsUjuOSs&sig=w631RcX6X_Kp8ZlB01c4gHJShPY\n",
            "----------\n",
            "<div class=\"gs_r gs_or gs_scl\" data-aid=\"BOCbrGb1BJ0J\" data-cid=\"BOCbrGb1BJ0J\" data-did=\"BOCbrGb1BJ0J\" data-lid=\"\" data-rp=\"6\"><div class=\"gs_ggs gs_fl\"><div class=\"gs_ggsd\"><div class=\"gs_or_ggsm\" ontouchstart=\"gs_evt_dsp(event)\" tabindex=\"-1\"><a data-clk=\"hl=en&amp;sa=T&amp;oi=gga&amp;ct=gga&amp;cd=6&amp;d=11314437985192894468&amp;ei=DD13ZaumM7qR6rQPscmLsAU\" data-clk-atid=\"BOCbrGb1BJ0J\" href=\"https://www.academia.edu/download/30480284/a_survey_on_analysis_and_design_of_model-based_fuzzy_control_systems-dsk.pdf\"><span class=\"gs_ctg2\">[PDF]</span> academia.edu</a></div></div></div><div class=\"gs_ri\"><h3 class=\"gs_rt\" ontouchstart=\"gs_evt_dsp(event)\"><a data-clk=\"hl=en&amp;sa=T&amp;ct=res&amp;cd=6&amp;d=11314437985192894468&amp;ei=DD13ZaumM7qR6rQPscmLsAU\" data-clk-atid=\"BOCbrGb1BJ0J\" href=\"https://ieeexplore.ieee.org/abstract/document/1707754/\" id=\"BOCbrGb1BJ0J\">A survey on analysis and design of model-based fuzzy <b>control systems</b></a></h3><div class=\"gs_a\"><a href=\"/citations?user=Ao7y2r8AAAAJ&amp;hl=en&amp;oi=sra\">G Feng</a> - IEEE Transactions on Fuzzy <b>systems</b>, 2006 - ieeexplore.ieee.org</div><div class=\"gs_rs\">… based on the global nonlinear model, and this also provides a framework to consolidate <br/>\n",
            "the general <b>industrial</b> practice of nonlinear <b>control</b> <b>system</b> designs such as gain scheduling …</div><div class=\"gs_fl gs_flb\"><a class=\"gs_or_sav gs_or_btn\" href=\"javascript:void(0)\" role=\"button\"><svg class=\"gs_or_svg\" viewbox=\"0 0 15 16\"><path d=\"M7.5 11.57l3.824 2.308-1.015-4.35 3.379-2.926-4.45-.378L7.5 2.122 5.761 6.224l-4.449.378 3.379 2.926-1.015 4.35z\"></path></svg><span class=\"gs_or_btn_lbl\">Save</span></a> <a aria-controls=\"gs_cit\" aria-haspopup=\"true\" class=\"gs_or_cit gs_or_btn gs_nph\" href=\"javascript:void(0)\" role=\"button\"><svg class=\"gs_or_svg\" viewbox=\"0 0 15 16\"><path d=\"M6.5 3.5H1.5V8.5H3.75L1.75 12.5H4.75L6.5 9V3.5zM13.5 3.5H8.5V8.5H10.75L8.75 12.5H11.75L13.5 9V3.5z\"></path></svg><span>Cite</span></a> <a href=\"/scholar?cites=11314437985192894468&amp;as_sdt=2005&amp;sciodt=0,5&amp;hl=en\">Cited by 1933</a> <a href=\"/scholar?q=related:BOCbrGb1BJ0J:scholar.google.com/&amp;scioq=Industrial+Control+System&amp;hl=en&amp;as_sdt=0,5&amp;as_ylo=2000&amp;as_yhi=2020\">Related articles</a> <a class=\"gs_nph\" href=\"/scholar?cluster=11314437985192894468&amp;hl=en&amp;as_sdt=0,5&amp;as_ylo=2000&amp;as_yhi=2020\">All 11 versions</a> <a class=\"gs_or_mor gs_oph\" href=\"javascript:void(0)\" role=\"button\" title=\"More\"><svg class=\"gs_or_svg\" viewbox=\"0 0 15 16\"><path d=\"M0.75 5.5l2-2L7.25 8l-4.5 4.5-2-2L3.25 8zM7.75 5.5l2-2L14.25 8l-4.5 4.5-2-2L10.25 8z\"></path></svg></a> <a class=\"gs_or_nvi gs_or_mor\" href=\"javascript:void(0)\" role=\"button\" title=\"Fewer\"><svg class=\"gs_or_svg\" viewbox=\"0 0 15 16\"><path d=\"M7.25 5.5l-2-2L0.75 8l4.5 4.5 2-2L4.75 8zM14.25 5.5l-2-2L7.75 8l4.5 4.5 2-2L11.75 8z\"></path></svg></a></div></div></div>\n",
            "A survey on analysis and design of model-based fuzzy control systems\n",
            "https://www.academia.edu/download/30480284/a_survey_on_analysis_and_design_of_model-based_fuzzy_control_systems-dsk.pdf\n",
            "----------\n",
            "<div class=\"gs_r gs_or gs_scl\" data-aid=\"AaTDNGRlx-AJ\" data-cid=\"AaTDNGRlx-AJ\" data-did=\"AaTDNGRlx-AJ\" data-lid=\"\" data-rp=\"7\"><div class=\"gs_ggs gs_fl\"><div class=\"gs_ggsd\"><div class=\"gs_or_ggsm\" ontouchstart=\"gs_evt_dsp(event)\" tabindex=\"-1\"><a data-clk=\"hl=en&amp;sa=T&amp;oi=gga&amp;ct=gga&amp;cd=7&amp;d=16197026065917649921&amp;ei=DD13ZaumM7qR6rQPscmLsAU\" data-clk-atid=\"AaTDNGRlx-AJ\" href=\"https://www.academia.edu/download/39283936/CENG_120_Textbook.pdf\"><span class=\"gs_ctg2\">[PDF]</span> academia.edu</a></div></div></div><div class=\"gs_ri\"><h3 class=\"gs_rt\" ontouchstart=\"gs_evt_dsp(event)\"><span class=\"gs_ctc\"><span class=\"gs_ct1\">[BOOK]</span><span class=\"gs_ct2\">[B]</span></span> <a data-clk=\"hl=en&amp;sa=T&amp;ct=res&amp;cd=7&amp;d=16197026065917649921&amp;ei=DD13ZaumM7qR6rQPscmLsAU\" data-clk-atid=\"AaTDNGRlx-AJ\" href=\"https://books.google.com/books?hl=en&amp;lr=&amp;id=A916FserdIkC&amp;oi=fnd&amp;pg=PA11&amp;dq=Industrial+Control+System&amp;ots=ux-cxozpWW&amp;sig=8b8Aa-iIk-cgKfqKsiUY3hy9LLE\" id=\"AaTDNGRlx-AJ\">Principles and practices of automatic process <b>control</b></a></h3><div class=\"gs_a\">CA Smith, AB Corripio - 2005 - books.google.com</div><div class=\"gs_rs\">… to what is the practice and implementation of the overwhelming majority of <b>industrial</b> <b>control</b> <br/>\n",
            "strategies. … , and the pairing and tuning of <b>controllers</b> in a multivariable <b>control</b> <b>system</b>. These …</div><div class=\"gs_fl gs_flb\"><a class=\"gs_or_sav gs_or_btn\" href=\"javascript:void(0)\" role=\"button\"><svg class=\"gs_or_svg\" viewbox=\"0 0 15 16\"><path d=\"M7.5 11.57l3.824 2.308-1.015-4.35 3.379-2.926-4.45-.378L7.5 2.122 5.761 6.224l-4.449.378 3.379 2.926-1.015 4.35z\"></path></svg><span class=\"gs_or_btn_lbl\">Save</span></a> <a aria-controls=\"gs_cit\" aria-haspopup=\"true\" class=\"gs_or_cit gs_or_btn gs_nph\" href=\"javascript:void(0)\" role=\"button\"><svg class=\"gs_or_svg\" viewbox=\"0 0 15 16\"><path d=\"M6.5 3.5H1.5V8.5H3.75L1.75 12.5H4.75L6.5 9V3.5zM13.5 3.5H8.5V8.5H10.75L8.75 12.5H11.75L13.5 9V3.5z\"></path></svg><span>Cite</span></a> <a href=\"/scholar?cites=16197026065917649921&amp;as_sdt=2005&amp;sciodt=0,5&amp;hl=en\">Cited by 1540</a> <a href=\"/scholar?q=related:AaTDNGRlx-AJ:scholar.google.com/&amp;scioq=Industrial+Control+System&amp;hl=en&amp;as_sdt=0,5&amp;as_ylo=2000&amp;as_yhi=2020\">Related articles</a> <a class=\"gs_nph\" href=\"/scholar?cluster=16197026065917649921&amp;hl=en&amp;as_sdt=0,5&amp;as_ylo=2000&amp;as_yhi=2020\">All 5 versions</a> <a class=\"gs_or_mor\" href=\"javascript:void(0)\" role=\"button\" title=\"More\"><svg class=\"gs_or_svg\" viewbox=\"0 0 15 16\"><path d=\"M0.75 5.5l2-2L7.25 8l-4.5 4.5-2-2L3.25 8zM7.75 5.5l2-2L14.25 8l-4.5 4.5-2-2L10.25 8z\"></path></svg></a> <a class=\"gs_or_nvi\" href=\"/scholar?output=instlink&amp;q=info:AaTDNGRlx-AJ:scholar.google.com/&amp;hl=en&amp;as_sdt=0,5&amp;as_ylo=2000&amp;as_yhi=2020&amp;scillfp=640071953691698781&amp;oi=llo\">Library Search</a> <a class=\"gs_or_nvi gs_or_mor\" href=\"javascript:void(0)\" role=\"button\" title=\"Fewer\"><svg class=\"gs_or_svg\" viewbox=\"0 0 15 16\"><path d=\"M7.25 5.5l-2-2L0.75 8l4.5 4.5 2-2L4.75 8zM14.25 5.5l-2-2L7.75 8l4.5 4.5 2-2L11.75 8z\"></path></svg></a></div></div></div>\n",
            "[BOOK][B] Principles and practices of automatic process control\n",
            "https://www.academia.edu/download/39283936/CENG_120_Textbook.pdf\n",
            "----------\n",
            "<div class=\"gs_r gs_or gs_scl\" data-aid=\"gCWMueI55IkJ\" data-cid=\"gCWMueI55IkJ\" data-did=\"gCWMueI55IkJ\" data-lid=\"\" data-rp=\"8\"><div class=\"gs_ggs gs_fl\"><div class=\"gs_ggsd\"><div class=\"gs_or_ggsm\" ontouchstart=\"gs_evt_dsp(event)\" tabindex=\"-1\"><a data-clk=\"hl=en&amp;sa=T&amp;oi=gga&amp;ct=gga&amp;cd=8&amp;d=9936130323824518528&amp;ei=DD13ZaumM7qR6rQPscmLsAU\" data-clk-atid=\"gCWMueI55IkJ\" href=\"https://eprints.gla.ac.uk/3817/1/IEEE3.pdf?ref=driverlayer.com\"><span class=\"gs_ctg2\">[PDF]</span> gla.ac.uk</a></div></div></div><div class=\"gs_ri\"><h3 class=\"gs_rt\" ontouchstart=\"gs_evt_dsp(event)\"><a data-clk=\"hl=en&amp;sa=T&amp;ct=res&amp;cd=8&amp;d=9936130323824518528&amp;ei=DD13ZaumM7qR6rQPscmLsAU\" data-clk-atid=\"gCWMueI55IkJ\" href=\"https://ieeexplore.ieee.org/abstract/document/1453566/\" id=\"gCWMueI55IkJ\">PID <b>control system </b>analysis, design, and technology</a></h3><div class=\"gs_a\"><a href=\"/citations?user=eCkExgYAAAAJ&amp;hl=en&amp;oi=sra\">KH Ang</a>, G Chong, <a href=\"/citations?user=c_RLy7gAAAAJ&amp;hl=en&amp;oi=sra\">Y Li</a> - IEEE transactions on <b>control systems</b> …, 2005 - ieeexplore.ieee.org</div><div class=\"gs_rs\">… <b>control</b> now offers a wide spectrum of choices for <b>control</b> schemes. However, more than 90% <br/>\n",
            "of <b>industrial</b> <b>controllers</b> … [5], as no other <b>controllers</b> match the simplicity, clear functionality, …</div><div class=\"gs_fl gs_flb\"><a class=\"gs_or_sav gs_or_btn\" href=\"javascript:void(0)\" role=\"button\"><svg class=\"gs_or_svg\" viewbox=\"0 0 15 16\"><path d=\"M7.5 11.57l3.824 2.308-1.015-4.35 3.379-2.926-4.45-.378L7.5 2.122 5.761 6.224l-4.449.378 3.379 2.926-1.015 4.35z\"></path></svg><span class=\"gs_or_btn_lbl\">Save</span></a> <a aria-controls=\"gs_cit\" aria-haspopup=\"true\" class=\"gs_or_cit gs_or_btn gs_nph\" href=\"javascript:void(0)\" role=\"button\"><svg class=\"gs_or_svg\" viewbox=\"0 0 15 16\"><path d=\"M6.5 3.5H1.5V8.5H3.75L1.75 12.5H4.75L6.5 9V3.5zM13.5 3.5H8.5V8.5H10.75L8.75 12.5H11.75L13.5 9V3.5z\"></path></svg><span>Cite</span></a> <a href=\"/scholar?cites=9936130323824518528&amp;as_sdt=2005&amp;sciodt=0,5&amp;hl=en\">Cited by 3757</a> <a href=\"/scholar?q=related:gCWMueI55IkJ:scholar.google.com/&amp;scioq=Industrial+Control+System&amp;hl=en&amp;as_sdt=0,5&amp;as_ylo=2000&amp;as_yhi=2020\">Related articles</a> <a class=\"gs_nph\" href=\"/scholar?cluster=9936130323824518528&amp;hl=en&amp;as_sdt=0,5&amp;as_ylo=2000&amp;as_yhi=2020\">All 17 versions</a> <a class=\"gs_or_mor gs_oph\" href=\"javascript:void(0)\" role=\"button\" title=\"More\"><svg class=\"gs_or_svg\" viewbox=\"0 0 15 16\"><path d=\"M0.75 5.5l2-2L7.25 8l-4.5 4.5-2-2L3.25 8zM7.75 5.5l2-2L14.25 8l-4.5 4.5-2-2L10.25 8z\"></path></svg></a> <a class=\"gs_or_nvi gs_or_mor\" href=\"javascript:void(0)\" role=\"button\" title=\"Fewer\"><svg class=\"gs_or_svg\" viewbox=\"0 0 15 16\"><path d=\"M7.25 5.5l-2-2L0.75 8l4.5 4.5 2-2L4.75 8zM14.25 5.5l-2-2L7.75 8l4.5 4.5 2-2L11.75 8z\"></path></svg></a></div></div></div>\n",
            "PID control system analysis, design, and technology\n",
            "https://eprints.gla.ac.uk/3817/1/IEEE3.pdf?ref=driverlayer.com\n",
            "----------\n",
            "<div class=\"gs_r gs_or gs_scl\" data-aid=\"AaBoGOOz5EMJ\" data-cid=\"AaBoGOOz5EMJ\" data-did=\"AaBoGOOz5EMJ\" data-lid=\"\" data-rp=\"9\"><div class=\"gs_ggs gs_fl\"><div class=\"gs_ggsd\"><div class=\"gs_or_ggsm\" ontouchstart=\"gs_evt_dsp(event)\" tabindex=\"-1\"><a data-clk=\"hl=en&amp;sa=T&amp;oi=gga&amp;ct=gga&amp;cd=9&amp;d=4892232883179659265&amp;ei=DD13ZaumM7qR6rQPscmLsAU\" data-clk-atid=\"AaBoGOOz5EMJ\" href=\"https://www.academia.edu/download/62960856/Hydraulic_Control_Systems__Book_by_Herbert_E._Merritt__-20200414-94878-ao1fuc.pdf\"><span class=\"gs_ctg2\">[PDF]</span> academia.edu</a></div></div></div><div class=\"gs_ri\"><h3 class=\"gs_rt\" ontouchstart=\"gs_evt_dsp(event)\"><span class=\"gs_ctc\"><span class=\"gs_ct1\">[BOOK]</span><span class=\"gs_ct2\">[B]</span></span> <a data-clk=\"hl=en&amp;sa=T&amp;ct=res&amp;cd=9&amp;d=4892232883179659265&amp;ei=DD13ZaumM7qR6rQPscmLsAU\" data-clk-atid=\"AaBoGOOz5EMJ\" href=\"https://books.google.com/books?hl=en&amp;lr=&amp;id=3EuoDwAAQBAJ&amp;oi=fnd&amp;pg=PR15&amp;dq=Industrial+Control+System&amp;ots=GGJwiT0TU-&amp;sig=wK0Y50XeHHgFYS5d_yfQPe1313c\" id=\"AaBoGOOz5EMJ\">Hydraulic <b>control systems</b></a></h3><div class=\"gs_a\"><a href=\"/citations?user=CECGdJsAAAAJ&amp;hl=en&amp;oi=sra\">ND Manring</a>, RC Fales - 2019 - books.google.com</div><div class=\"gs_rs\">… <b>control</b> <b>system</b> was soon to experience a major setback. At the beginning k of the 20th century, <br/>\n",
            "the electrical power <b>industry</b> … time, caused the ffuid power <b>industry</b> to nearly die for several …</div><div class=\"gs_fl gs_flb\"><a class=\"gs_or_sav gs_or_btn\" href=\"javascript:void(0)\" role=\"button\"><svg class=\"gs_or_svg\" viewbox=\"0 0 15 16\"><path d=\"M7.5 11.57l3.824 2.308-1.015-4.35 3.379-2.926-4.45-.378L7.5 2.122 5.761 6.224l-4.449.378 3.379 2.926-1.015 4.35z\"></path></svg><span class=\"gs_or_btn_lbl\">Save</span></a> <a aria-controls=\"gs_cit\" aria-haspopup=\"true\" class=\"gs_or_cit gs_or_btn gs_nph\" href=\"javascript:void(0)\" role=\"button\"><svg class=\"gs_or_svg\" viewbox=\"0 0 15 16\"><path d=\"M6.5 3.5H1.5V8.5H3.75L1.75 12.5H4.75L6.5 9V3.5zM13.5 3.5H8.5V8.5H10.75L8.75 12.5H11.75L13.5 9V3.5z\"></path></svg><span>Cite</span></a> <a href=\"/scholar?cites=4892232883179659265&amp;as_sdt=2005&amp;sciodt=0,5&amp;hl=en\">Cited by 5577</a> <a href=\"/scholar?q=related:AaBoGOOz5EMJ:scholar.google.com/&amp;scioq=Industrial+Control+System&amp;hl=en&amp;as_sdt=0,5&amp;as_ylo=2000&amp;as_yhi=2020\">Related articles</a> <a class=\"gs_nph\" href=\"/scholar?cluster=4892232883179659265&amp;hl=en&amp;as_sdt=0,5&amp;as_ylo=2000&amp;as_yhi=2020\">All 10 versions</a> <a class=\"gs_or_mor\" href=\"javascript:void(0)\" role=\"button\" title=\"More\"><svg class=\"gs_or_svg\" viewbox=\"0 0 15 16\"><path d=\"M0.75 5.5l2-2L7.25 8l-4.5 4.5-2-2L3.25 8zM7.75 5.5l2-2L14.25 8l-4.5 4.5-2-2L10.25 8z\"></path></svg></a> <a class=\"gs_or_nvi\" href=\"/scholar?output=instlink&amp;q=info:AaBoGOOz5EMJ:scholar.google.com/&amp;hl=en&amp;as_sdt=0,5&amp;as_ylo=2000&amp;as_yhi=2020&amp;scillfp=14301439617266801280&amp;oi=llo\">Library Search</a> <a class=\"gs_or_nvi gs_or_mor\" href=\"javascript:void(0)\" role=\"button\" title=\"Fewer\"><svg class=\"gs_or_svg\" viewbox=\"0 0 15 16\"><path d=\"M7.25 5.5l-2-2L0.75 8l4.5 4.5 2-2L4.75 8zM14.25 5.5l-2-2L7.75 8l4.5 4.5 2-2L11.75 8z\"></path></svg></a></div></div></div>\n",
            "[BOOK][B] Hydraulic control systems\n",
            "https://www.academia.edu/download/62960856/Hydraulic_Control_Systems__Book_by_Herbert_E._Merritt__-20200414-94878-ao1fuc.pdf\n",
            "----------\n"
          ]
        }
      ]
    },
    {
      "cell_type": "code",
      "source": [
        "for item in soup.select('[data-lid]'):\n",
        "   print(item.select('a')[0]['href'])"
      ],
      "metadata": {
        "id": "zuKEo5UR70gk",
        "colab": {
          "base_uri": "https://localhost:8080/"
        },
        "outputId": "66c816f8-6432-4236-a6b0-564665166c39"
      },
      "execution_count": 38,
      "outputs": [
        {
          "output_type": "stream",
          "name": "stdout",
          "text": [
            "http://www.gocs.com.de/pages/fachberichte/archiv/164-sp800_82_r2_draft.pdf\n",
            "https://www.scienceopen.com/document_file/ac860a09-78e2-4eb5-b8fb-0aea8b8d8a8e/ScienceOpen/022_Morris.pdf\n",
            "https://ds.amu.edu.et/xmlui/bitstream/handle/123456789/17461/Graham%20C.%20Goodwin%2C%20Stefan%20F.%20Graebe%2C%20Mario%20E.%20Salgado-Control%20System%20Design%20-Prentice%20Hall%20%282000%29.pdf?sequence=1&isAllowed=y\n",
            "https://link.springer.com/book/10.1007/1-84628-493-7\n",
            "http://kundoku.free.fr/O/008/Optimal%20Sampled%20Data%20Control%20Systems/Optimal%20Sampled%20Data%20Control%20Systems.pdf\n",
            "https://books.google.com/books?hl=en&lr=&id=vcc_AAAAQBAJ&oi=fnd&pg=PR27&dq=Industrial+Control+System&ots=iwvsUjuOSs&sig=w631RcX6X_Kp8ZlB01c4gHJShPY\n",
            "https://www.academia.edu/download/30480284/a_survey_on_analysis_and_design_of_model-based_fuzzy_control_systems-dsk.pdf\n",
            "https://www.academia.edu/download/39283936/CENG_120_Textbook.pdf\n",
            "https://eprints.gla.ac.uk/3817/1/IEEE3.pdf?ref=driverlayer.com\n",
            "https://www.academia.edu/download/62960856/Hydraulic_Control_Systems__Book_by_Herbert_E._Merritt__-20200414-94878-ao1fuc.pdf\n"
          ]
        }
      ]
    },
    {
      "cell_type": "code",
      "source": [
        "i=0\n",
        "response_i=requests.get(item.select('a')[0]['href'])\n",
        "for item in soup.select('[data-lid]'):\n",
        "  if ('.pdf' in item.select('a')[0]['href'] ):\n",
        "     i+=1\n",
        "\n",
        "     print(item.select('a')[0]['href'])\n",
        "     pdf = open(\"pdf\"+str(i)+\".pdf\", 'wb')\n",
        "     pdf.write(response_i.content)\n",
        "     pdf.close()\n",
        "     print(\"File \", i, \" downloaded\")\n",
        "print(i)\n"
      ],
      "metadata": {
        "colab": {
          "base_uri": "https://localhost:8080/"
        },
        "id": "LgnyKEuE70jr",
        "outputId": "24a6657d-a532-4c19-cc3b-ba4f60ff681d"
      },
      "execution_count": 64,
      "outputs": [
        {
          "output_type": "stream",
          "name": "stdout",
          "text": [
            "http://www.gocs.com.de/pages/fachberichte/archiv/164-sp800_82_r2_draft.pdf\n",
            "File  1  downloaded\n",
            "https://www.scienceopen.com/document_file/ac860a09-78e2-4eb5-b8fb-0aea8b8d8a8e/ScienceOpen/022_Morris.pdf\n",
            "File  2  downloaded\n",
            "https://ds.amu.edu.et/xmlui/bitstream/handle/123456789/17461/Graham%20C.%20Goodwin%2C%20Stefan%20F.%20Graebe%2C%20Mario%20E.%20Salgado-Control%20System%20Design%20-Prentice%20Hall%20%282000%29.pdf?sequence=1&isAllowed=y\n",
            "File  3  downloaded\n",
            "http://kundoku.free.fr/O/008/Optimal%20Sampled%20Data%20Control%20Systems/Optimal%20Sampled%20Data%20Control%20Systems.pdf\n",
            "File  4  downloaded\n",
            "https://www.academia.edu/download/30480284/a_survey_on_analysis_and_design_of_model-based_fuzzy_control_systems-dsk.pdf\n",
            "File  5  downloaded\n",
            "https://www.academia.edu/download/39283936/CENG_120_Textbook.pdf\n",
            "File  6  downloaded\n",
            "https://eprints.gla.ac.uk/3817/1/IEEE3.pdf?ref=driverlayer.com\n",
            "File  7  downloaded\n",
            "https://www.academia.edu/download/62960856/Hydraulic_Control_Systems__Book_by_Herbert_E._Merritt__-20200414-94878-ao1fuc.pdf\n",
            "File  8  downloaded\n",
            "8\n"
          ]
        }
      ]
    },
    {
      "cell_type": "code",
      "source": [],
      "metadata": {
        "colab": {
          "base_uri": "https://localhost:8080/"
        },
        "id": "AJALNA-070mx",
        "outputId": "ade23ff1-ae39-432d-b31a-a50868f833ff"
      },
      "execution_count": 49,
      "outputs": [
        {
          "output_type": "stream",
          "name": "stdout",
          "text": [
            "8\n"
          ]
        }
      ]
    },
    {
      "cell_type": "code",
      "source": [],
      "metadata": {
        "id": "A322eDBJpI-i"
      },
      "execution_count": null,
      "outputs": []
    },
    {
      "cell_type": "code",
      "source": [],
      "metadata": {
        "id": "xmDwYerppJBq"
      },
      "execution_count": null,
      "outputs": []
    },
    {
      "cell_type": "code",
      "source": [],
      "metadata": {
        "id": "ghb1FVNRpJEi"
      },
      "execution_count": null,
      "outputs": []
    },
    {
      "cell_type": "code",
      "source": [],
      "metadata": {
        "id": "E0Vu26dhpJGw"
      },
      "execution_count": null,
      "outputs": []
    },
    {
      "cell_type": "code",
      "source": [],
      "metadata": {
        "id": "3PA8gQ6HpJJp"
      },
      "execution_count": null,
      "outputs": []
    }
  ]
}